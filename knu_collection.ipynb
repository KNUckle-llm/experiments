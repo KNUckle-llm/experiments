{
  "nbformat": 4,
  "nbformat_minor": 0,
  "metadata": {
    "colab": {
      "provenance": [],
      "machine_shape": "hm",
      "gpuType": "L4",
      "authorship_tag": "ABX9TyObw0C5uMn0iAyM7VTBjiPB",
      "include_colab_link": true
    },
    "kernelspec": {
      "name": "python3",
      "display_name": "Python 3"
    },
    "language_info": {
      "name": "python"
    },
    "accelerator": "GPU"
  },
  "cells": [
    {
      "cell_type": "markdown",
      "metadata": {
        "id": "view-in-github",
        "colab_type": "text"
      },
      "source": [
        "<a href=\"https://colab.research.google.com/github/KNUckle-llm/experiments/blob/main/knu_collection.ipynb\" target=\"_parent\"><img src=\"https://colab.research.google.com/assets/colab-badge.svg\" alt=\"Open In Colab\"/></a>"
      ]
    },
    {
      "cell_type": "code",
      "source": [
        "# word -> pdf 파일로 변환(colab)\n",
        "# Excel -> pdf 파일로 변환(colab)\n",
        "# HWP -> PDF 파일로 변환(로컬)"
      ],
      "metadata": {
        "colab": {
          "base_uri": "https://localhost:8080/"
        },
        "id": "JFTEu-E4kPb6",
        "outputId": "e91987d2-eeb8-4f1f-8378-0f685ab4e57c"
      },
      "execution_count": 2,
      "outputs": [
        {
          "output_type": "stream",
          "name": "stdout",
          "text": [
            "Requirement already satisfied: aspose-words in /usr/local/lib/python3.11/dist-packages (25.3.0)\n"
          ]
        }
      ]
    },
    {
      "cell_type": "code",
      "execution_count": 9,
      "metadata": {
        "id": "R-CMJHq6cs38",
        "colab": {
          "base_uri": "https://localhost:8080/"
        },
        "outputId": "7a8abe19-0979-4760-d5d9-4c72e188ecfc"
      },
      "outputs": [
        {
          "output_type": "stream",
          "name": "stdout",
          "text": [
            "Drive already mounted at /content/drive; to attempt to forcibly remount, call drive.mount(\"/content/drive\", force_remount=True).\n"
          ]
        }
      ],
      "source": [
        "from google.colab import drive\n",
        "drive.mount('/content/drive')"
      ]
    },
    {
      "cell_type": "code",
      "source": [
        "# 필요 라이브러리 설치\n",
        "!pip install chromadb\n",
        "!pip install sentence-transformers\n",
        "!pip install pandas\n",
        "!pip install pdfplumber\n",
        "\n",
        "# ocr 설치\n",
        "!apt-get install poppler-utils  # pdf2image 변환에 필요\n",
        "!apt-get install tesseract-ocr\n",
        "!pip install pytesseract pdf2image Pillow"
      ],
      "metadata": {
        "id": "HMBZE6WnnMvn",
        "collapsed": true
      },
      "execution_count": null,
      "outputs": []
    },
    {
      "cell_type": "code",
      "source": [
        "# ocr 제대로 설치되었는지 확인\n",
        "!apt-get update\n",
        "!apt-get install -y poppler-utils\n",
        "!which pdfinfo"
      ],
      "metadata": {
        "id": "qnjA0M3MMZ0S"
      },
      "execution_count": null,
      "outputs": []
    },
    {
      "cell_type": "code",
      "source": [
        "# 구글 드라이브 document_files에 있는 파일들 전부 저장\n",
        "import os, re, unicodedata, pytz, warnings, logging\n",
        "import pandas as pd\n",
        "import pdfplumber, pytesseract\n",
        "from datetime import datetime\n",
        "from PIL import Image, ImageEnhance, ImageFilter\n",
        "from sentence_transformers import SentenceTransformer\n",
        "from chromadb import PersistentClient\n",
        "from pdf2image import convert_from_path\n",
        "\n",
        "# 경고 무시 설정\n",
        "warnings.filterwarnings(\"ignore\", category=UserWarning)\n",
        "logging.getLogger(\"pdfminer\").setLevel(logging.ERROR)\n",
        "\n",
        "# 설정\n",
        "PERSIST_DIR = \"/content/drive/MyDrive/chroma_index\"\n",
        "COLLECTION_NAME = \"knu_collection\"\n",
        "EMBEDDING_MODEL_NAME = \"sentence-transformers/all-MiniLM-L12-v2\"\n",
        "ROOT_FOLDER = \"/content/drive/MyDrive/document_files\"     # 여기만 바꾸기(경로)\n",
        "URL_MAPPING_SUFFIX = \"_url.xlsx\"\n",
        "POPPLER_PATH = \"/usr/bin\"  # Colab에서 poppler 경로\n",
        "\n",
        "KST = pytz.timezone('Asia/Seoul')\n",
        "model = SentenceTransformer(EMBEDDING_MODEL_NAME)\n",
        "client = PersistentClient(path=PERSIST_DIR)\n",
        "collection = client.get_or_create_collection(name=COLLECTION_NAME)\n",
        "existing_ids = set(collection.get(limit=None)['ids'])\n",
        "\n",
        "# 텍스트 전처리 함수\n",
        "def clean_text(text):\n",
        "    text = re.sub(r'\\s+', ' ', text)\n",
        "    return text.strip()\n",
        "\n",
        "def split_chunks(text, chunk_size=500):\n",
        "    return [text[i:i+chunk_size].strip() for i in range(0, len(text), chunk_size)]\n",
        "\n",
        "# ✅ OCR 기반 PDF 텍스트 추출 함수\n",
        "def ocr_pdf(filepath):\n",
        "    try:\n",
        "        images = convert_from_path(filepath, dpi=300, poppler_path=POPPLER_PATH)\n",
        "        text = ''\n",
        "        for img in images:\n",
        "            # 이미지 전처리 추가\n",
        "            gray = img.convert('L')  # 흑백 변환\n",
        "            gray = gray.filter(ImageFilter.MedianFilter())  # 노이즈 제거\n",
        "            enhancer = ImageEnhance.Contrast(gray)\n",
        "            enhanced = enhancer.enhance(2.0)  # 대비 증가\n",
        "            bw = enhanced.point(lambda x: 0 if x < 140 else 255, '1')  # 이진화\n",
        "\n",
        "            # OCR 수행\n",
        "            text += pytesseract.image_to_string(\n",
        "                bw,\n",
        "                lang='kor+eng',\n",
        "                config='--psm 6 --oem 3'\n",
        "            ) + '\\n'\n",
        "        return text\n",
        "    except Exception as e:\n",
        "        print(f\"❌ [OCR 실패] {filepath}: {e}\")\n",
        "        return \"\"\n",
        "\n",
        "def read_file(filepath):\n",
        "    if filepath.endswith(\".pdf\"):\n",
        "        try:\n",
        "            with pdfplumber.open(filepath) as pdf:\n",
        "                text = ''.join([page.extract_text() or '' for page in pdf.pages])\n",
        "            return text if text.strip() else ocr_pdf(filepath)\n",
        "        except Exception as e:\n",
        "            print(f\"❌ [pdfplumber 실패] {filepath}: {e}\")\n",
        "            return ocr_pdf(filepath)\n",
        "    elif filepath.endswith(\".md\"):\n",
        "        try:\n",
        "            with open(filepath, 'r', encoding='utf-8') as f:\n",
        "                return f.read()\n",
        "        except:\n",
        "            return \"\"\n",
        "    return \"\"\n",
        "\n",
        "def get_all_files(folder):\n",
        "    all_files = []\n",
        "    for dirpath, _, filenames in os.walk(folder):\n",
        "        for f in filenames:\n",
        "            if f.endswith(('.pdf', '.md')):\n",
        "                all_files.append(os.path.join(dirpath, f))\n",
        "    return all_files\n",
        "\n",
        "def extract_category(file_path, base_folder):\n",
        "    rel_path = os.path.relpath(file_path, start=base_folder)\n",
        "    parts = rel_path.split(os.sep)\n",
        "    return parts[0] if len(parts) > 1 else \"기타\"\n",
        "\n",
        "def build_metadata(file_path, base_folder, base_name, source_url, ext):\n",
        "    category = extract_category(file_path, base_folder)\n",
        "    department_path = os.path.relpath(base_folder, ROOT_FOLDER)\n",
        "\n",
        "    # source_type을 pdf와 markdown으로만 설정\n",
        "    source_type = \"pdf\" if ext == \".pdf\" else \"markdown\"\n",
        "\n",
        "    return {\n",
        "        \"file_name\": base_name,\n",
        "        \"department\": department_path,\n",
        "        \"category\": category,\n",
        "        \"source_type\": source_type,\n",
        "        \"source_url\": source_url,\n",
        "        \"date\": datetime.now(KST).isoformat()\n",
        "    }\n",
        "\n",
        "total_added = 0\n",
        "\n",
        "# 엑셀 기준으로 저장\n",
        "for dirpath, _, filenames in os.walk(ROOT_FOLDER):\n",
        "    for filename in filenames:\n",
        "        if filename.endswith(URL_MAPPING_SUFFIX):\n",
        "            folder = dirpath  # 엑셀 위치 폴더 = 기준 폴더\n",
        "            dept_folder_name = os.path.basename(folder)\n",
        "            url_file = os.path.join(folder, filename)\n",
        "\n",
        "            try:\n",
        "                url_df = pd.read_excel(url_file)\n",
        "                url_mapping = dict(zip(url_df['파일명'], url_df['URL']))\n",
        "            except Exception as e:\n",
        "                print(f\"❌ URL 매핑 실패: {url_file} ({e})\")\n",
        "                continue\n",
        "\n",
        "            file_paths = get_all_files(folder)\n",
        "\n",
        "            for file_path in file_paths:\n",
        "                file_name = os.path.basename(file_path)\n",
        "                base_name = unicodedata.normalize(\"NFC\", os.path.splitext(file_name)[0])\n",
        "                ext = os.path.splitext(file_name)[1].lower()\n",
        "\n",
        "                if file_name.endswith(URL_MAPPING_SUFFIX):\n",
        "                    continue\n",
        "\n",
        "                raw_text = read_file(file_path)\n",
        "                if not raw_text.strip():\n",
        "                    print(f\"⚠️ {file_name}: 텍스트 없음 → 스킵\")\n",
        "                    continue\n",
        "\n",
        "                cleaned = clean_text(raw_text)\n",
        "                chunks = split_chunks(cleaned)\n",
        "                embeddings = model.encode(chunks).tolist()\n",
        "                ids = [f\"{dept_folder_name}_{base_name}_chunk_{i}\" for i in range(len(chunks))]\n",
        "\n",
        "                new_chunks, new_embeddings, new_ids, new_metadatas = [], [], [], []\n",
        "\n",
        "                for chunk, emb, id_ in zip(chunks, embeddings, ids):\n",
        "                    if id_ not in existing_ids:\n",
        "                        meta = build_metadata(file_path, folder, base_name, url_mapping.get(base_name, \"출처 URL 없음\"), ext)\n",
        "                        new_chunks.append(chunk)\n",
        "                        new_embeddings.append(emb)\n",
        "                        new_ids.append(id_)\n",
        "                        new_metadatas.append(meta)\n",
        "\n",
        "                if new_chunks:\n",
        "                    collection.add(\n",
        "                        documents=new_chunks,\n",
        "                        embeddings=new_embeddings,\n",
        "                        metadatas=new_metadatas,\n",
        "                        ids=new_ids\n",
        "                    )\n",
        "                    print(f\"✅ {file_name}: {len(new_chunks)}개 저장 완료\")\n",
        "                    total_added += len(new_chunks)\n",
        "                else:\n",
        "                    print(f\"✅✅✅ {file_name}: 중복 청크만 존재 → 스킵\")\n",
        "\n",
        "print(f\"\\n🎉 총 저장된 신규 청크 수: {total_added}\")"
      ],
      "metadata": {
        "id": "YNaggdr8dqHb",
        "collapsed": true
      },
      "execution_count": null,
      "outputs": []
    },
    {
      "cell_type": "code",
      "source": [
        "import random\n",
        "from chromadb import PersistentClient\n",
        "\n",
        "# 설정\n",
        "PERSIST_DIR = \"/content/drive/MyDrive/chroma_index\"\n",
        "COLLECTION_NAME = \"knu_collection\"\n",
        "\n",
        "client = PersistentClient(path=PERSIST_DIR)\n",
        "collection = client.get_or_create_collection(name=COLLECTION_NAME)\n",
        "\n",
        "# 전체 문서 불러오기\n",
        "results = collection.get(limit=None, include=[\"documents\", \"metadatas\", \"embeddings\"])\n",
        "total_docs = len(results['ids'])\n",
        "\n",
        "print(f\"\\n📦 전체 저장된 벡터 수: {total_docs}\")\n",
        "print(\"=\" * 70)\n",
        "\n",
        "# 10개 무작위 추출\n",
        "sample_indices = random.sample(range(total_docs), min(10, total_docs))\n",
        "\n",
        "for i in sample_indices:\n",
        "    doc_id = results[\"ids\"][i]\n",
        "    metadata = results[\"metadatas\"][i]\n",
        "    doc_text = results[\"documents\"][i].strip().replace(\"\\n\", \" \")\n",
        "    embedding = results[\"embeddings\"][i]\n",
        "\n",
        "    print(f\"🔹 ID: {doc_id}\")\n",
        "    print(f\"   📁 파일명: {metadata.get('file_name')}\")\n",
        "    print(f\"   🏫 부서: {metadata.get('department')}\")\n",
        "    print(f\"   📂 카테고리: {metadata.get('category')}\")\n",
        "    print(f\"   📄 타입: {metadata.get('source_type')}\")\n",
        "    print(f\"   🌐 URL: {metadata.get('source_url')}\")\n",
        "    print(f\"   📅 날짜: {metadata.get('date')[:10]}\")\n",
        "    print(f\"   💬 청크 문장: {doc_text[:200]}...\")  # 200자까지만 표시\n",
        "    print(f\"   🧠 벡터 길이: {len(embedding)}\")\n",
        "    print(f\"   🔢 벡터 앞 5개 값: {embedding[:5]}\")\n",
        "    print(\"-\" * 70)\n"
      ],
      "metadata": {
        "id": "F0gqtPA8wvRv",
        "collapsed": true
      },
      "execution_count": null,
      "outputs": []
    },
    {
      "cell_type": "markdown",
      "source": [],
      "metadata": {
        "id": "Isokvauz18vk"
      }
    },
    {
      "cell_type": "code",
      "source": [
        "# 완전 내부 초기화 ------ 신중히 사용하기 바람 -------\n",
        "\"\"\"\n",
        "from chromadb import PersistentClient\n",
        "\n",
        "PERSIST_DIR = \"/content/drive/MyDrive/chroma_index\"\n",
        "COLLECTION_NAME = \"knu_collection\"\n",
        "\n",
        "client = PersistentClient(path=PERSIST_DIR)\n",
        "collection = client.get_or_create_collection(name=COLLECTION_NAME)\n",
        "\n",
        "# 컬렉션 내의 모든 문서 ID를 가져와 삭제\n",
        "existing_ids = collection.get(limit=None)['ids']\n",
        "if existing_ids:\n",
        "    collection.delete(ids=existing_ids)\n",
        "    print(f\"🗑️ 컬렉션 내 모든 데이터 삭제 완료: {len(existing_ids)}개 삭제됨\")\n",
        "else:\n",
        "    print(\"✅ 삭제할 데이터가 없습니다. 컬렉션이 이미 비어있습니다.\")\n",
        "\"\"\""
      ],
      "metadata": {
        "id": "z8uhQAFgwRdd",
        "colab": {
          "base_uri": "https://localhost:8080/"
        },
        "outputId": "7efbc43f-f99b-407b-bbeb-9d69b77acfc9",
        "collapsed": true
      },
      "execution_count": 63,
      "outputs": [
        {
          "output_type": "stream",
          "name": "stdout",
          "text": [
            "🗑️ 컬렉션 내 모든 데이터 삭제 완료: 1064개 삭제됨\n"
          ]
        }
      ]
    },
    {
      "cell_type": "code",
      "source": [
        "#변환 실패"
      ],
      "metadata": {
        "colab": {
          "base_uri": "https://localhost:8080/",
          "height": 1000
        },
        "id": "QE_D2Ap6HOHY",
        "outputId": "6e3c44db-62a5-4f8d-8209-831629136265"
      },
      "execution_count": 78,
      "outputs": [
        {
          "output_type": "stream",
          "name": "stdout",
          "text": [
            "✅ 총 1페이지 변환됨\n",
            "\n",
            "📄 페이지 1 OCR 결과\n",
            "\n"
          ]
        },
        {
          "output_type": "display_data",
          "data": {
            "text/plain": [
              "<Figure size 640x480 with 1 Axes>"
            ],
            "image/png": "[encoded data removed]"
          },
          "metadata": {}
        },
        {
          "output_type": "stream",
          "name": "stdout",
          "text": [
            "📜 텍스트:\n",
            "\n",
            "ps 1 AA f\n",
            "L pel a aS . N “f\n",
            "W248 — X li SP\n",
            "ol | Gq % oo\n",
            "7 05.2/- 6.30 “~ ,\n",
            "NS\n",
            "C ee\n",
            "se Z= A A= OU ZO\n",
            "mH ae x= _ 4 _ Ls ?\n",
            "M2 SwO|A| AA\n",
            "GA SHolz| Gs DB G+ Ale\n",
            "eto] 442/01 Re SA Ael Of] 4-04] Ay C4] O] EY eH]O] A\n",
            "Sh/0lza|2 ASetelct. ce DBS MENStL|Ch.\n",
            "a\n",
            ": 6\n",
            "HJO|E{HJO|A 4 Bet\n",
            "Academic Search™\n",
            "Completes S2/etLlct. OlE{HJOJ|A Ws\n",
            "O/E}T/O| AO] AAot FI,\n",
            "Business Source® CompleteS\n",
            "IS MEWSEL|CH.\n",
            "Bo zsCO O}= = AI0ES\n",
            "nH — a OF Sse Cir Via\n",
            "< E> >\n",
            "=~ / mi \\ 4 LAN\n",
            "ae\n",
            "@ aE\n",
            "iS ARH A\n",
            "HOW DH (3 eI) OFOIA OFM Are\n",
            "OO az\n",
            "A= D2! Obel An 4\n",
            "MEAS SHH\n",
            ". . io\n",
            "TeAt BLO] ALHSt 27H CHSHOS ASO |” LE\n",
            "*T ABE TOMO St HA SRS AWAD HOA SIWSUO. «Se\n",
            "eM a I as\n",
            "NUGU AEH A\n",
            "MSS SHolA OOIA OFC 7 F&e\n",
            "LiHrO|~\n",
            "----------------------------------------------------------------------\n"
          ]
        }
      ]
    },
    {
      "cell_type": "code",
      "source": [
        "\"\"\"\n",
        "# 워드 파일 -> pdf 파일로 변환 예시\n",
        "input_docx = \"/content/drive/MyDrive/sample/[공통]_친환경_화장품_창업_공모전_코코챌린지_안내(KT&G_상상마당)_새글_비기너_트랙_참가신청서.docx\"\n",
        "output_md = \"/content/drive/MyDrive/sample/[공통]_친환경_화장품_창업_공모전_코코챌린지_안내(KT&G_상상마당)_새글_비기너_트랙_참가신청서.md\"\n",
        "\n",
        "\n",
        "# 엑셀 파일 -> pdf 변환 해야함\n",
        "\"\"\""
      ],
      "metadata": {
        "id": "dCUy8Ltwc6ld"
      },
      "execution_count": null,
      "outputs": []
    }
  ]
}