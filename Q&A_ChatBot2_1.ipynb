{
  "nbformat": 4,
  "nbformat_minor": 0,
  "metadata": {
    "colab": {
      "provenance": [],
      "machine_shape": "hm",
      "gpuType": "L4",
      "authorship_tag": "ABX9TyOhFAhFTM/jmLw879oOZOL9",
      "include_colab_link": true
    },
    "kernelspec": {
      "name": "python3",
      "display_name": "Python 3"
    },
    "language_info": {
      "name": "python"
    },
    "accelerator": "GPU"
  },
  "cells": [
    {
      "cell_type": "markdown",
      "metadata": {
        "id": "view-in-github",
        "colab_type": "text"
      },
      "source": [
        "<a href=\"https://colab.research.google.com/github/KNUckle-llm/experiments/blob/main/Q%26A_ChatBot2_1.ipynb\" target=\"_parent\"><img src=\"https://colab.research.google.com/assets/colab-badge.svg\" alt=\"Open In Colab\"/></a>"
      ]
    },
    {
      "cell_type": "code",
      "execution_count": null,
      "metadata": {
        "id": "nEER2kRiIwvS"
      },
      "outputs": [],
      "source": [
        "# 인공지능 PDF Q&A 챗봇 프로젝트"
      ]
    },
    {
      "cell_type": "code",
      "source": [
        "from google.colab import drive\n",
        "drive.mount('/content/drive')"
      ],
      "metadata": {
        "id": "s1WwBRU_Nq9y",
        "collapsed": true
      },
      "execution_count": null,
      "outputs": []
    },
    {
      "cell_type": "code",
      "source": [
        "!pip install python-dotenv\n",
        "# 일단 종호의 openai API 키를 .env 파일에 넣어 놓음 => 나중에 바꾸기"
      ],
      "metadata": {
        "collapsed": true,
        "id": "5KCM5kP6No8S"
      },
      "execution_count": null,
      "outputs": []
    },
    {
      "cell_type": "code",
      "source": [
        "#!pip uninstall -y gradio\n",
        "#!pip install gradio==3.50.2 --force-reinstall --no-cache-dir"
      ],
      "metadata": {
        "collapsed": true,
        "id": "RG_3magVch41"
      },
      "execution_count": null,
      "outputs": []
    },
    {
      "cell_type": "code",
      "source": [
        "!pip install langchain_openai==0.3.7"
      ],
      "metadata": {
        "collapsed": true,
        "id": "3R-NCn3dOPWk"
      },
      "execution_count": null,
      "outputs": []
    },
    {
      "cell_type": "code",
      "source": [
        "!pip install langchain-huggingface==0.1.2"
      ],
      "metadata": {
        "collapsed": true,
        "id": "-Mw_Wf-zPhtF"
      },
      "execution_count": null,
      "outputs": []
    },
    {
      "cell_type": "code",
      "source": [
        "!pip install langchain_community==0.3.18"
      ],
      "metadata": {
        "collapsed": true,
        "id": "hF1lOXXOPkQX"
      },
      "execution_count": null,
      "outputs": []
    },
    {
      "cell_type": "code",
      "source": [
        "!pip install faiss-cpu==1.10.0"
      ],
      "metadata": {
        "collapsed": true,
        "id": "DW2y0rt0Rjjv"
      },
      "execution_count": null,
      "outputs": []
    },
    {
      "cell_type": "code",
      "source": [
        "!pip install pypdf"
      ],
      "metadata": {
        "collapsed": true,
        "id": "D5quX3Ac8eVU"
      },
      "execution_count": null,
      "outputs": []
    },
    {
      "cell_type": "code",
      "source": [
        "import gradio as gr\n",
        "import os\n",
        "import tempfile\n",
        "from dotenv import load_dotenv\n",
        "from langchain_openai import ChatOpenAI\n",
        "from langchain_text_splitters import CharacterTextSplitter\n",
        "from langchain_huggingface import HuggingFaceEmbeddings\n",
        "from langchain_core.prompts import ChatPromptTemplate\n",
        "from langchain_core.output_parsers import StrOutputParser\n",
        "from langchain_community.document_loaders import PyPDFLoader\n",
        "from langchain_community.vectorstores import FAISS\n",
        "from langchain_core.runnables import RunnablePassthrough\n",
        "\n",
        "# 환경 변수 불러오기(openai API 키)\n",
        "load_dotenv('/content/drive/MyDrive/Colab Notebooks/.env')\n",
        "\n",
        "# LLM 설정\n",
        "llm = ChatOpenAI(model=\"gpt-4o-mini\")\n",
        "\n",
        "# 텍스트 분리\n",
        "text_splitter = CharacterTextSplitter(\n",
        "    chunk_size=1000,\n",
        "    chunk_overlap=100\n",
        ")\n",
        "\n",
        "# 임베딩 모델\n",
        "hf_embeddings = HuggingFaceEmbeddings(model_name=\"BAAI/bge-m3\")\n",
        "\n",
        "# 프롬프트 템플릿\n",
        "message = \"\"\"\n",
        "당신은 사용자의 질문에 답변을 하는 친절한 AI 어시스턴트입니다.\n",
        "당신의 임무는 주어진 문맥을 토대로 사용자 질문에 답하는 것입니다.\n",
        "만약, 문맥에서 답변을 위한 정보를 찾을 수 없다면 '주어진 정보에서 질문에 대한 정보를 찾을 수 없습니다' 라고 답하세요.\n",
        "정보를 찾을 수 있다면 한글로 답변해 주세요.\n",
        "\n",
        "## 주어진 문맥:\n",
        "{context}\n",
        "\n",
        "## 사용자 질문:\n",
        "{input}\n",
        "\"\"\"\n",
        "prompt_template = ChatPromptTemplate.from_messages(\n",
        "    [\n",
        "        (\"human\", message)\n",
        "    ]\n",
        ")\n",
        "\n",
        "# 출력 파서\n",
        "parser = StrOutputParser()\n",
        "\n",
        "# 전역 변수\n",
        "db = None\n",
        "retriever = None\n",
        "rag_chain = None\n",
        "faiss_path = \"/content/drive/MyDrive/FaissDB/knu_faiss_db\"\n",
        "\n",
        "# 사용자 질문에 대한 응답을 만들기\n",
        "def setup_chain():\n",
        "    global retriever, rag_chain\n",
        "\n",
        "    retriever = db.as_retriever(\n",
        "        search_type=\"mmr\",\n",
        "        search_kwargs={\"k\": 3, \"fetch_k\": 10, \"lamda_mult\": 0.5}\n",
        "    )\n",
        "\n",
        "    rag_chain = {\n",
        "        \"context\": retriever,\n",
        "        \"input\": RunnablePassthrough()\n",
        "    } | prompt_template | llm | parser\n",
        "\n",
        "# 드라이브에 존재하는 DB 로드\n",
        "def load_faiss_db():\n",
        "    global db\n",
        "    db = FAISS.load_local(\n",
        "        folder_path=faiss_path,\n",
        "        embeddings=hf_embeddings,\n",
        "        allow_dangerous_deserialization=True\n",
        "    )\n",
        "    setup_chain()\n",
        "\n",
        "# PDF 업로드 및 DB 저장\n",
        "def add_pdf_to_db(file):\n",
        "    global db\n",
        "\n",
        "    loader = PyPDFLoader(file.name)\n",
        "    docs = loader.load_and_split(text_splitter=text_splitter)\n",
        "\n",
        "    # 각 청크에 파일명 metadata 추가\n",
        "    for doc in docs:\n",
        "        doc.metadata[\"file_name\"] = os.path.basename(file.name)\n",
        "        # 여기에 url도 넣을 수 있을듯?\n",
        "\n",
        "    if db is None:\n",
        "        db = FAISS.from_documents(docs, hf_embeddings)\n",
        "    else:\n",
        "      db.add_documents(docs)\n",
        "\n",
        "    db.save_local(faiss_path)\n",
        "    setup_chain()\n",
        "\n",
        "    return f\"{os.path.basename(file.name)} 문서를 처리하여 FAISS DB에 저장했습니다.\"\n",
        "\n",
        "# 질문 처리\n",
        "def answer_question(question):\n",
        "    if rag_chain is None:\n",
        "        return \"먼저 PDF 파일을 업로드하세요!\"\n",
        "    return rag_chain.invoke(question)\n",
        "\n",
        "def show_stored_documents():\n",
        "    if db is None:\n",
        "        return \"DB 로드 문제\"\n",
        "\n",
        "    docs = list(db.docstore._dict.values())  # 저장된 모든 청크들을 가져와 리스트로 변환\n",
        "    file_names = {doc.metadata.get(\"file_name\", \"Unknown\") for doc in docs}\n",
        "    return \"📚 저장된 문서 목록:\\n\" + \"\\n\".join(f\"• {f}\" for f in sorted(file_names))\n",
        "\n",
        "with gr.Blocks(theme=gr.themes.Soft()) as demo:\n",
        "    gr.Markdown(\"\"\"\n",
        "    # 📄 인공지능 PDF Q&A 챗봇\n",
        "    **여러 PDF 파일을 업로드하고 질문을 입력하면 AI가 답변을 제공합니다!**\n",
        "    \"\"\")\n",
        "\n",
        "    with gr.Row():\n",
        "        with gr.Column(scale=1):\n",
        "            file_input = gr.File(label=\"PDF 파일 선택\")\n",
        "            upload_button = gr.Button(\"📤 벡터 DB에 저장\")\n",
        "            show_files_button = gr.Button(\"📚 저장된 문서 보기\")\n",
        "\n",
        "        with gr.Column(scale=2):\n",
        "            status_output = gr.Textbox(label=\"📢 상태 메시지\")\n",
        "            question_input = gr.Textbox(label=\"❓ 질문 입력\", placeholder=\"궁금한 내용을 적어주세요.\")\n",
        "            submit_button = gr.Button(\"🤖 답변 받기\")\n",
        "            answer_output = gr.Textbox(label=\"📝 AI 답변\")\n",
        "\n",
        "    upload_button.click(add_pdf_to_db, inputs=file_input, outputs=status_output)\n",
        "    submit_button.click(answer_question, inputs=question_input, outputs=answer_output)\n",
        "    show_files_button.click(show_stored_documents, outputs=status_output)\n",
        "\n",
        "# 벡터 DB 로드 후 실행\n",
        "load_faiss_db()\n",
        "demo.launch()"
      ],
      "metadata": {
        "collapsed": true,
        "id": "_FgPqUBrJUIn"
      },
      "execution_count": null,
      "outputs": []
    },
    {
      "cell_type": "code",
      "source": [
        "#!pip uninstall numpy -y\n",
        "#!pip install --no-cache-dir numpy==1.26.4\n",
        "# colab에 numpy 2.버전이 설치되어 있어서 버전 충돌남"
      ],
      "metadata": {
        "collapsed": true,
        "id": "qXZuuZ05P3qO",
        "colab": {
          "base_uri": "https://localhost:8080/"
        },
        "outputId": "a30e7bd4-79a6-4437-9c7e-3c5868727350"
      },
      "execution_count": null,
      "outputs": [
        {
          "output_type": "stream",
          "name": "stdout",
          "text": [
            "Found existing installation: numpy 2.0.2\n",
            "Uninstalling numpy-2.0.2:\n",
            "  Successfully uninstalled numpy-2.0.2\n",
            "Collecting numpy==1.26.4\n",
            "  Downloading numpy-1.26.4-cp311-cp311-manylinux_2_17_x86_64.manylinux2014_x86_64.whl.metadata (61 kB)\n",
            "\u001b[2K     \u001b[90m━━━━━━━━━━━━━━━━━━━━━━━━━━━━━━━━━━━━━━━━\u001b[0m \u001b[32m61.0/61.0 kB\u001b[0m \u001b[31m97.7 MB/s\u001b[0m eta \u001b[36m0:00:00\u001b[0m\n",
            "\u001b[?25hDownloading numpy-1.26.4-cp311-cp311-manylinux_2_17_x86_64.manylinux2014_x86_64.whl (18.3 MB)\n",
            "\u001b[2K   \u001b[90m━━━━━━━━━━━━━━━━━━━━━━━━━━━━━━━━━━━━━━━━\u001b[0m \u001b[32m18.3/18.3 MB\u001b[0m \u001b[31m85.5 MB/s\u001b[0m eta \u001b[36m0:00:00\u001b[0m\n",
            "\u001b[?25hInstalling collected packages: numpy\n",
            "\u001b[31mERROR: pip's dependency resolver does not currently take into account all the packages that are installed. This behaviour is the source of the following dependency conflicts.\n",
            "thinc 8.3.6 requires numpy<3.0.0,>=2.0.0, but you have numpy 1.26.4 which is incompatible.\u001b[0m\u001b[31m\n",
            "\u001b[0mSuccessfully installed numpy-1.26.4\n"
          ]
        }
      ]
    },
    {
      "cell_type": "code",
      "source": [
        "import numpy\n",
        "print(numpy.__version__)"
      ],
      "metadata": {
        "colab": {
          "base_uri": "https://localhost:8080/"
        },
        "id": "SqCQ32ozSclI",
        "outputId": "456fbaae-eb29-4751-8eb1-259f9b72effa"
      },
      "execution_count": null,
      "outputs": [
        {
          "output_type": "stream",
          "name": "stdout",
          "text": [
            "1.26.4\n"
          ]
        }
      ]
    },
    {
      "cell_type": "code",
      "source": [
        "import gradio\n",
        "print(gradio.__version__)"
      ],
      "metadata": {
        "colab": {
          "base_uri": "https://localhost:8080/"
        },
        "id": "ObqvRExvFmXG",
        "outputId": "c48201ed-e567-48a9-e441-98e59836625d"
      },
      "execution_count": null,
      "outputs": [
        {
          "output_type": "stream",
          "name": "stdout",
          "text": [
            "3.50.2\n"
          ]
        }
      ]
    },
    {
      "cell_type": "code",
      "source": [
        "# Colab에 임베딩 모델 다운로드\n",
        "#from huggingface_hub import snapshot_download\n",
        "#snapshot_download(repo_id=\"BAAI/bge-m3\", local_dir=\"/content/drive/MyDrive/EmbeddingModel/bge-m3\")"
      ],
      "metadata": {
        "collapsed": true,
        "id": "m6Lwb3SeW-L_"
      },
      "execution_count": null,
      "outputs": []
    }
  ]
}